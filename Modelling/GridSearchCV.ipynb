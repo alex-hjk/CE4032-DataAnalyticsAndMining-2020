{
 "cells": [
  {
   "cell_type": "code",
   "execution_count": 1,
   "metadata": {},
   "outputs": [],
   "source": [
    "import pandas as pd\n",
    "import sklearn\n",
    "import numpy as np\n",
    "import seaborn as sns\n",
    "import matplotlib.pyplot as plt\n",
    "from sklearn.model_selection import GridSearchCV\n",
    "%matplotlib inline\n",
    "from sklearn import preprocessing\n",
    "from sklearn.metrics import precision_recall_curve\n",
    "from sklearn.metrics import average_precision_score\n",
    "from sklearn.model_selection import train_test_split\n",
    "from sklearn.ensemble import RandomForestClassifier\n",
    "from sklearn.metrics import plot_precision_recall_curve\n",
    "import matplotlib.pyplot as plt\n",
    "from sklearn.preprocessing import label_binarize\n",
    "from sklearn.metrics import average_precision_score\n",
    "from sklearn.metrics import f1_score\n",
    "\n",
    "import warnings\n",
    "from sklearn.exceptions import DataConversionWarning\n",
    "warnings.simplefilter(action='ignore', category=FutureWarning)\n",
    "warnings.simplefilter(action='ignore', category=DataConversionWarning)"
   ]
  },
  {
   "cell_type": "code",
   "execution_count": 38,
   "metadata": {},
   "outputs": [],
   "source": [
    "#preprocessing\n",
    "# def removeUnknown(df_in, col, match):\n",
    "#     df = df_in.copy()\n",
    "\n",
    "#     df = df.loc[df[col] != match]\n",
    "#     return df\n",
    "\n",
    "# df = pd.read_csv('terrorism_new.csv')\n",
    "# cols = ['iyear', 'extended', 'latitude', 'longitude', 'attacktype1', 'success', 'suicide', 'targtype1', 'gname', 'nperps', 'nkill', 'nwound', 'property']\n",
    "# df = df.loc[:, cols]\n",
    "\n",
    "# #remove all unknown\n",
    "# for col in cols:\n",
    "#     df = removeUnknown(df, col, 'Unknown')\n",
    "#     df = removeUnknown(df, col, -9)\n",
    "#     df = removeUnknown(df, col, -99)\n",
    "    \n",
    "# df = df.dropna()\n",
    "# le = preprocessing.LabelEncoder()\n",
    "# gname_cat = le.fit_transform(dataset['gname'])\n",
    "# dataset['gname'] = gname_cat\n",
    "# df.to_csv('trimmed_dataset.csv', index = False)\n"
   ]
  },
  {
   "cell_type": "code",
   "execution_count": 5,
   "metadata": {},
   "outputs": [],
   "source": [
    "def preprocess_data(dataset, incident_count):\n",
    "    #remove Unknown terrorist groups\n",
    "    dataset = dataset[dataset['gname'] != \"Unknown\"]\n",
    "    #drop rows with NaN values\n",
    "    dataset = dataset.dropna()\n",
    "    \n",
    "    #attack counts per group\n",
    "    group_attack_count = {}\n",
    "    for i in dataset['gname']:\n",
    "        if i in group_attack_count:\n",
    "            group_attack_count[i] = 1 + group_attack_count[i]\n",
    "        else:\n",
    "            group_attack_count[i] = 1\n",
    "            \n",
    "    #list to determine which rows to discard later on (if in this list, gname has <500 attacks)\n",
    "    to_discard = []\n",
    "    for i in group_attack_count:\n",
    "        if group_attack_count[i] < incident_count:\n",
    "            to_discard.append(i)\n",
    "            \n",
    "    #map that contains gnames and their attack counts (must have >= 500 attacks)\n",
    "    #this map is not used in model building, but is useful to see spread of attacks across gnames we are interested in\n",
    "    to_keep_map = {}\n",
    "    for i in group_attack_count:\n",
    "        if group_attack_count[i] >= incident_count:\n",
    "            to_keep_map[i] = group_attack_count[i]\n",
    "    \n",
    "    #trim dataset to only include gnames we are interested in, we are not interested in gnames that are in to_discard\n",
    "    dataset = dataset[~dataset['gname'].isin(to_discard)]\n",
    "    \n",
    "    #make a dictionary to map each gname to a number\n",
    "    name_map = {}\n",
    "    unique_gname = dataset['gname'].unique()\n",
    "    for i in range(len(unique_gname)):\n",
    "        name_map[unique_gname[i]] = i\n",
    "    \n",
    "    dataset = dataset.replace({\"gname\":name_map})\n",
    "    \n",
    "    return dataset"
   ]
  },
  {
   "cell_type": "code",
   "execution_count": 6,
   "metadata": {},
   "outputs": [],
   "source": [
    "def plotPrecisionRecall(recall_micro, precision_micro, avgPrecise_micro):\n",
    "    plt.figure()\n",
    "    plt.step(recall_micro, precision_micro, where='post')\n",
    "\n",
    "    plt.xlabel('Recall')\n",
    "    plt.ylabel('Precision')\n",
    "    plt.ylim([0.0, 1.05])\n",
    "    plt.xlim([0.0, 1.0])\n",
    "    plt.title(\n",
    "        'Average precision score, micro-averaged over all classes: AP={0:0.2f}'\n",
    "        .format(avgPrecise_micro))"
   ]
  },
  {
   "cell_type": "code",
   "execution_count": 7,
   "metadata": {},
   "outputs": [],
   "source": [
    "def plotPrecisionRecallBinary(forest_classifier, X_test, y_test, average_precision):\n",
    "    disp = plot_precision_recall_curve(forest_classifier, X_test, y_test)\n",
    "    disp.ax_.set_title('2-class Precision-Recall curve: '\n",
    "                       'AP={0:0.2f}'.format(average_precision))"
   ]
  },
  {
   "cell_type": "code",
   "execution_count": 115,
   "metadata": {},
   "outputs": [],
   "source": [
    "def gridSearch(dataset, output_label, verbose=2):\n",
    "    X = dataset.drop(output_label, axis = 1)\n",
    "    \n",
    "    if output_label == 'gname':\n",
    "        le = preprocessing.LabelEncoder()\n",
    "        gname_cat = le.fit_transform(dataset[output_label])\n",
    "        dataset[output_label] = gname_cat\n",
    "        \n",
    "    Y = dataset[output_label]\n",
    "    \n",
    "    param_grid = {\n",
    "    'n_estimators' : [100, 250],\n",
    "    'max_features': ['sqrt', None],\n",
    "    'min_samples_leaf' : [1, 20, 100],\n",
    "    }\n",
    "    \n",
    "    X_train, X_test, y_train, y_test = train_test_split(X, Y, test_size = 0.3, random_state = 42)\n",
    "    \n",
    "    rf = RandomForestClassifier()\n",
    "    clf = GridSearchCV(rf, param_grid, verbose = verbose, cv = 2, scoring = 'f1_weighted', n_jobs = -1)\n",
    "        \n",
    "    clf.fit(X_train, y_train)\n",
    "\n",
    "    print(\"Optimal Parameters: {}\".format(clf.best_params_))\n",
    "    \n",
    "    forest_classifier = clf.best_estimator_\n",
    "    \n",
    "    # Instantiate model with 1000 decision trees\n",
    "#     forest_classifier = RandomForestClassifier(n_estimators = 100)\n",
    "    # Train the model on training data\n",
    "    forest_classifier.fit(X_train, y_train)\n",
    "    acc = forest_classifier.score(X_test, y_test)\n",
    "    print(\"The accuracy is: {}\".format(acc))\n",
    "    \n",
    "    y_score = forest_classifier.predict(X_test)\n",
    "    \n",
    "    f1 = f1_score(y_test, y_score, average = 'weighted')\n",
    "    print(\"The F1 score is: {}\".format(f1))\n",
    "    \n",
    "    if output_label == 'success':\n",
    "        average_precision = average_precision_score(y_test, y_score)\n",
    "        print('Average precision-recall score: {0:0.2f}'.format(\n",
    "              average_precision))\n",
    "        plotPrecisionRecallBinary(forest_classifier, X_test, y_test, average_precision)\n",
    "\n",
    "#     return acc, f1"
   ]
  },
  {
   "cell_type": "code",
   "execution_count": 116,
   "metadata": {},
   "outputs": [],
   "source": [
    "def wrapper(label, withClusters):\n",
    "    rfe_dict = {\n",
    "        \"success\" : ['iyear', 'latitude', 'longitude', 'attacktype1', 'nkill', 'nwound', 'targtype1', 'property', 'gname', 'nperps', 'suicide', 'extended', 'success'],\n",
    "        \"gname\" : [\"iyear\", \"latitude\", \"longitude\", \"targtype1\", \"nperps\", \"nkill\", \"gname\"],\n",
    "        \"targtype1\" : [\"iyear\", \"latitude\", \"longitude\", \"nperps\", \"gname\", \"nkill\", \"nwound\", \"property\", \"attacktype1\", \"success\", \"suicide\", \"targtype1\"]\n",
    "    }\n",
    "    \n",
    "    df = preprocess_data(pd.read_csv('trimmed_dataset.csv'),0)\n",
    "    cols = rfe_dict[label]\n",
    "    df = df[cols]\n",
    "    print(\"Predicting Label: {}, using Clusters: {}\".format(label, withClusters))\n",
    "    \n",
    "    if withClusters:\n",
    "        df_cluster = pd.read_csv('cluster.csv')\n",
    "        df['cluster'] = df_cluster['cluster']\n",
    "    \n",
    "    print(\"shape: {}\".format(df.shape))\n",
    "    gridSearch(df, label, 0)\n",
    "    "
   ]
  },
  {
   "cell_type": "code",
   "execution_count": 118,
   "metadata": {},
   "outputs": [
    {
     "name": "stdout",
     "output_type": "stream",
     "text": [
      "Predicting Label: success, using Clusters: False\n",
      "shape: (15374, 13)\n",
      "Optimal Parameters: {'max_features': 'sqrt', 'min_samples_leaf': 1, 'n_estimators': 250}\n",
      "The accuracy is: 0.9401690873618036\n",
      "The F1 score is: 0.9366687397522415\n",
      "Average precision-recall score: 0.95\n",
      "\n",
      "\n",
      "Predicting Label: success, using Clusters: True\n",
      "shape: (15374, 14)\n",
      "Optimal Parameters: {'max_features': None, 'min_samples_leaf': 1, 'n_estimators': 250}\n",
      "The accuracy is: 0.9386516366789508\n",
      "The F1 score is: 0.9358635748453752\n",
      "Average precision-recall score: 0.95\n"
     ]
    },
    {
     "data": {
      "image/png": "[encoded data removed]",
      "text/plain": [
       "<Figure size 432x288 with 1 Axes>"
      ]
     },
     "metadata": {
      "needs_background": "light"
     },
     "output_type": "display_data"
    },
    {
     "data": {
      "image/png": "[encoded data removed]",
      "text/plain": [
       "<Figure size 432x288 with 1 Axes>"
      ]
     },
     "metadata": {
      "needs_background": "light"
     },
     "output_type": "display_data"
    }
   ],
   "source": [
    "wrapper(\"success\", False)\n",
    "print('\\n')\n",
    "wrapper(\"success\", True)"
   ]
  },
  {
   "cell_type": "code",
   "execution_count": 119,
   "metadata": {},
   "outputs": [
    {
     "name": "stdout",
     "output_type": "stream",
     "text": [
      "Predicting Label: gname, using Clusters: False\n",
      "shape: (15374, 7)\n"
     ]
    },
    {
     "name": "stderr",
     "output_type": "stream",
     "text": [
      "/Users/xiaoqi.lim/Desktop/FYP/data-env/lib/python3.8/site-packages/sklearn/model_selection/_split.py:670: UserWarning: The least populated class in y has only 1 members, which is less than n_splits=2.\n",
      "  warnings.warn((\"The least populated class in y has only %d\"\n"
     ]
    },
    {
     "name": "stdout",
     "output_type": "stream",
     "text": [
      "Optimal Parameters: {'max_features': None, 'min_samples_leaf': 1, 'n_estimators': 250}\n",
      "The accuracy is: 0.6865380446564058\n",
      "The F1 score is: 0.6639201323915402\n",
      "\n",
      "\n",
      "Predicting Label: gname, using Clusters: True\n",
      "shape: (15374, 8)\n"
     ]
    },
    {
     "name": "stderr",
     "output_type": "stream",
     "text": [
      "/Users/xiaoqi.lim/Desktop/FYP/data-env/lib/python3.8/site-packages/sklearn/model_selection/_split.py:670: UserWarning: The least populated class in y has only 1 members, which is less than n_splits=2.\n",
      "  warnings.warn((\"The least populated class in y has only %d\"\n"
     ]
    },
    {
     "name": "stdout",
     "output_type": "stream",
     "text": [
      "Optimal Parameters: {'max_features': None, 'min_samples_leaf': 1, 'n_estimators': 250}\n",
      "The accuracy is: 0.6802514632560156\n",
      "The F1 score is: 0.6563347458069281\n"
     ]
    }
   ],
   "source": [
    "wrapper(\"gname\", False)\n",
    "print('\\n')\n",
    "wrapper(\"gname\", True)"
   ]
  },
  {
   "cell_type": "code",
   "execution_count": 120,
   "metadata": {},
   "outputs": [
    {
     "name": "stdout",
     "output_type": "stream",
     "text": [
      "Predicting Label: targtype1, using Clusters: False\n",
      "shape: (15374, 12)\n",
      "Optimal Parameters: {'max_features': 'sqrt', 'min_samples_leaf': 1, 'n_estimators': 250}\n",
      "The accuracy is: 0.4313895512681552\n",
      "The F1 score is: 0.4217366315476736\n",
      "\n",
      "\n",
      "Predicting Label: targtype1, using Clusters: True\n",
      "shape: (15374, 13)\n",
      "Optimal Parameters: {'max_features': 'sqrt', 'min_samples_leaf': 1, 'n_estimators': 250}\n",
      "The accuracy is: 0.42228484717103837\n",
      "The F1 score is: 0.4124330399090054\n"
     ]
    }
   ],
   "source": [
    "wrapper(\"targtype1\", False)\n",
    "print('\\n')\n",
    "wrapper(\"targtype1\", True)"
   ]
  },
  {
   "cell_type": "code",
   "execution_count": null,
   "metadata": {},
   "outputs": [],
   "source": []
  },
  {
   "cell_type": "code",
   "execution_count": null,
   "metadata": {},
   "outputs": [],
   "source": []
  }
 ],
 "metadata": {
  "kernelspec": {
   "display_name": "Python 3",
   "language": "python",
   "name": "python3"
  },
  "language_info": {
   "codemirror_mode": {
    "name": "ipython",
    "version": 3
   },
   "file_extension": ".py",
   "mimetype": "text/x-python",
   "name": "python",
   "nbconvert_exporter": "python",
   "pygments_lexer": "ipython3",
   "version": "3.8.5"
  }
 },
 "nbformat": 4,
 "nbformat_minor": 4
}
