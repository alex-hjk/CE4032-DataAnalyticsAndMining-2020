{
 "cells": [
  {
   "cell_type": "code",
   "execution_count": 1,
   "metadata": {},
   "outputs": [],
   "source": [
    "import pandas as pd\n",
    "import matplotlib.pyplot as plt\n",
    "plt.style.use('fivethirtyeight')\n",
    "import seaborn as sns\n",
    "\n",
    "# Trying to predict: targtype1_txt\n",
    "# With inputs: country_txt, gname, attacktype1_txt\n"
   ]
  },
  {
   "cell_type": "code",
   "execution_count": 6,
   "metadata": {},
   "outputs": [],
   "source": [
    "# Data Preprocessing - Removing NA and NaN Values\n",
    "\n",
    "# df = pd.read_csv('terrorism_new.csv')\n",
    "# df = df.loc[:,['gname', 'country_txt', 'attacktype1_txt', 'targtype1_txt']]\n",
    "# # df = df.loc[:,['gname', 'region_txt', 'attacktype1_txt', 'targtype1_txt']]\n",
    "\n",
    "# df = df.rename(columns={'gname' : 'group_name', 'country_txt' : 'country', 'attacktype1_txt' : 'attack_type', 'targtype1_txt' : 'target_type'})\n",
    "# # df = df.rename(columns={'gname' : 'group_name', 'region_txt' : 'region', 'attacktype1_txt' : 'attack_type', 'targtype1_txt' : 'target_type'})\n",
    "\n",
    "# df['group_name'] = df.loc[df['group_name'] != 'Unknown']['group_name']\n",
    "# df['attack_type'] = df.loc[df['attack_type'] != 'Unknown']['attack_type']\n",
    "# df['target_type'] = df.loc[df['target_type'] != 'Unknown']['target_type']\n",
    "# df['country'] = df.loc[df['country'] != 'Unknown']['country']\n",
    "# # df['region'] = df.loc[df['region'] != 'Unknown']['region']\n",
    "\n",
    "# df = df.dropna()\n",
    "# df\n",
    "\n",
    "# df.to_csv('targettype_prediction.csv')\n",
    "\n",
    "df = pd.read_csv('targettype_prediction.csv')"
   ]
  },
  {
   "cell_type": "code",
   "execution_count": 7,
   "metadata": {},
   "outputs": [],
   "source": [
    "# rng = np.random.RandomState(1)\n",
    "# X = rng.randint(5, size=(6, 100))\n",
    "# y = np.array([1, 2, 3, 4, 5, 6])\n",
    "# from sklearn.naive_bayes import MultinomialNB\n",
    "# clf = MultinomialNB()\n",
    "# clf.fit(X, y)\n",
    "# MultinomialNB()\n",
    "\n",
    "# Z = rng.randint(5, size=(1, 100))\n",
    "\n",
    "# print(clf.predict(Z))"
   ]
  },
  {
   "cell_type": "code",
   "execution_count": 20,
   "metadata": {},
   "outputs": [
    {
     "name": "stdout",
     "output_type": "stream",
     "text": [
      "[13  5 12 ... 12  9 13]\n",
      "[[    0  1884    43]\n",
      " [    1    13   107]\n",
      " [    2   679   176]\n",
      " ...\n",
      " [96481  3102     0]\n",
      " [96482  3102     0]\n",
      " [96483  1019   175]]\n",
      "Training Features Shape: (72363, 3)\n",
      "Training Labels Shape: (72363,)\n",
      "Testing Features Shape: (24121, 3)\n",
      "Testing Labels Shape: (24121,)\n",
      "CategoricalNB()\n",
      "[ 2  2 12 ... 12  2  2]\n",
      "[ 9 12 12 ... 12 12  2]\n",
      "accuracy: 0.3489905061979188\n"
     ]
    }
   ],
   "source": [
    "from sklearn.model_selection import train_test_split\n",
    "from sklearn.preprocessing import LabelEncoder\n",
    "import numpy as np\n",
    "\n",
    "\n",
    "labeledDF = df.apply(LabelEncoder().fit_transform) \n",
    "\n",
    "# print(labeledDF)\n",
    "classes = np.array(labeledDF['target_type'])\n",
    "print(classes)\n",
    "newDF = labeledDF.iloc[:,0:3]\n",
    "\n",
    "attributes = np.array(newDF)\n",
    "print(attributes)\n",
    "\n",
    "X_train, X_test, y_train, y_test = train_test_split(attributes, classes, test_size=0.25, random_state=8)\n",
    "\n",
    "print('Training Features Shape:', X_train.shape)\n",
    "print('Training Labels Shape:', y_train.shape)\n",
    "print('Testing Features Shape:', X_test.shape)\n",
    "print('Testing Labels Shape:', y_test.shape)\n",
    "\n",
    "from sklearn.naive_bayes import CategoricalNB\n",
    "clf = CategoricalNB()\n",
    "print(clf)\n",
    "clf.fit(X_train, y_train)\n",
    "\n",
    "y_pred_test = clf.predict(X_test)\n",
    "\n",
    "print(y_pred_test)\n",
    "print(y_test)\n",
    "\n",
    "from sklearn.metrics import accuracy_score, confusion_matrix, classification_report\n",
    "\n",
    "# View accuracy score\n",
    "print('accuracy: {}'.format(accuracy_score(y_test, y_pred_test)))\n",
    "matrix = confusion_matrix(y_test, y_pred_test)\n",
    "\n",
    "# print(matrix)"
   ]
  },
  {
   "cell_type": "code",
   "execution_count": null,
   "metadata": {},
   "outputs": [],
   "source": []
  },
  {
   "cell_type": "code",
   "execution_count": null,
   "metadata": {},
   "outputs": [],
   "source": [
    "\n",
    "\n"
   ]
  },
  {
   "cell_type": "code",
   "execution_count": null,
   "metadata": {},
   "outputs": [],
   "source": []
  }
 ],
 "metadata": {
  "kernelspec": {
   "display_name": "Python 3",
   "language": "python",
   "name": "python3"
  },
  "language_info": {
   "codemirror_mode": {
    "name": "ipython",
    "version": 3
   },
   "file_extension": ".py",
   "mimetype": "text/x-python",
   "name": "python",
   "nbconvert_exporter": "python",
   "pygments_lexer": "ipython3",
   "version": "3.7.2"
  }
 },
 "nbformat": 4,
 "nbformat_minor": 2
}
