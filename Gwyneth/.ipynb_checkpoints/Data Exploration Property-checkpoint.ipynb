{
 "cells": [
  {
   "cell_type": "code",
   "execution_count": 1,
   "metadata": {},
   "outputs": [],
   "source": [
    "import pandas as pd\n",
    "import numpy as np\n",
    "import matplotlib.pyplot as plt"
   ]
  },
  {
   "cell_type": "code",
   "execution_count": 15,
   "metadata": {},
   "outputs": [],
   "source": [
    "dataset_path = '/Users/gwynethang/Downloads/terrorism_new.csv'\n",
    "dataset = pd.read_csv(dataset_path)"
   ]
  },
  {
   "cell_type": "code",
   "execution_count": 16,
   "metadata": {},
   "outputs": [],
   "source": [
    "dataset = dataset[[\n",
    "    'eventid','attacktype1_txt','weaptype1_txt','targtype1_txt','gname',\n",
    "    'property','propextent','propvalue','region_txt','suicide'\n",
    "]]"
   ]
  },
  {
   "cell_type": "code",
   "execution_count": 44,
   "metadata": {},
   "outputs": [
    {
     "data": {
      "text/plain": [
       "eventid            10211\n",
       "attacktype1_txt    10211\n",
       "weaptype1_txt      10211\n",
       "targtype1_txt      10211\n",
       "gname              10211\n",
       "property           10211\n",
       "propextent         10211\n",
       "propvalue          10211\n",
       "region_txt         10211\n",
       "suicide            10211\n",
       "dtype: int64"
      ]
     },
     "execution_count": 44,
     "metadata": {},
     "output_type": "execute_result"
    }
   ],
   "source": [
    "valid_prop = dataset[pd.notna(dataset.propextent)]\n",
    "valid_prop = valid_prop[pd.notna(va.propvalue)]\n",
    "valid_prop = valid_prop[valid_prop.property == 1]\n",
    "valid_prop = valid_prop[valid_prop.propvalue != (-99)]\n",
    "valid_prop.count()"
   ]
  }
 ],
 "metadata": {
  "kernelspec": {
   "display_name": "Python 3",
   "language": "python",
   "name": "python3"
  },
  "language_info": {
   "codemirror_mode": {
    "name": "ipython",
    "version": 3
   },
   "file_extension": ".py",
   "mimetype": "text/x-python",
   "name": "python",
   "nbconvert_exporter": "python",
   "pygments_lexer": "ipython3",
   "version": "3.6.5"
  }
 },
 "nbformat": 4,
 "nbformat_minor": 2
}
